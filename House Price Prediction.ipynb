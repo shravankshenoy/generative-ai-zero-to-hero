{
 "cells": [
  {
   "cell_type": "code",
   "execution_count": 14,
   "id": "ae200d69",
   "metadata": {},
   "outputs": [],
   "source": [
    "import numpy as np\n",
    "import pandas as pd\n",
    "from sklearn.linear_model import LinearRegression"
   ]
  },
  {
   "cell_type": "code",
   "execution_count": 16,
   "id": "acb28360",
   "metadata": {},
   "outputs": [],
   "source": [
    "# Training data : We take prices of 5 houses along with their sizes\n",
    "\n",
    "# house_sizes is the independent variable/predictor\n",
    "# house_prices is the target variable\n",
    "\n",
    "house_sizes = np.array([500, 750, 1000, 1250, 1500])\n",
    "house_prices = np.array([3500000, 6000000, 8000000, 10000000, 13000000])"
   ]
  },
  {
   "cell_type": "code",
   "execution_count": 18,
   "id": "a606e389",
   "metadata": {},
   "outputs": [
    {
     "data": {
      "text/html": [
       "<div>\n",
       "<style scoped>\n",
       "    .dataframe tbody tr th:only-of-type {\n",
       "        vertical-align: middle;\n",
       "    }\n",
       "\n",
       "    .dataframe tbody tr th {\n",
       "        vertical-align: top;\n",
       "    }\n",
       "\n",
       "    .dataframe thead th {\n",
       "        text-align: right;\n",
       "    }\n",
       "</style>\n",
       "<table border=\"1\" class=\"dataframe\">\n",
       "  <thead>\n",
       "    <tr style=\"text-align: right;\">\n",
       "      <th></th>\n",
       "      <th>House Size (sqft)</th>\n",
       "      <th>House Price (INR)</th>\n",
       "    </tr>\n",
       "  </thead>\n",
       "  <tbody>\n",
       "    <tr>\n",
       "      <th>0</th>\n",
       "      <td>500</td>\n",
       "      <td>3500000</td>\n",
       "    </tr>\n",
       "    <tr>\n",
       "      <th>1</th>\n",
       "      <td>750</td>\n",
       "      <td>6000000</td>\n",
       "    </tr>\n",
       "    <tr>\n",
       "      <th>2</th>\n",
       "      <td>1000</td>\n",
       "      <td>8000000</td>\n",
       "    </tr>\n",
       "    <tr>\n",
       "      <th>3</th>\n",
       "      <td>1250</td>\n",
       "      <td>10000000</td>\n",
       "    </tr>\n",
       "    <tr>\n",
       "      <th>4</th>\n",
       "      <td>1500</td>\n",
       "      <td>13000000</td>\n",
       "    </tr>\n",
       "  </tbody>\n",
       "</table>\n",
       "</div>"
      ],
      "text/plain": [
       "   House Size (sqft)  House Price (INR)\n",
       "0                500            3500000\n",
       "1                750            6000000\n",
       "2               1000            8000000\n",
       "3               1250           10000000\n",
       "4               1500           13000000"
      ]
     },
     "execution_count": 18,
     "metadata": {},
     "output_type": "execute_result"
    }
   ],
   "source": [
    "pd.DataFrame({\n",
    "    'House Size (sqft)':house_sizes,\n",
    "    'House Price (INR)':house_prices\n",
    "})"
   ]
  },
  {
   "cell_type": "code",
   "execution_count": null,
   "id": "b3da5d2c",
   "metadata": {},
   "outputs": [],
   "source": [
    "# Model is : house price = w1 * house size + w2\n",
    "# From the 5 data points above, the model will learn w1 and w2, which captures the relationship in the data"
   ]
  },
  {
   "cell_type": "code",
   "execution_count": null,
   "id": "a0aff921",
   "metadata": {},
   "outputs": [],
   "source": []
  },
  {
   "cell_type": "code",
   "execution_count": 23,
   "id": "8cec57b0",
   "metadata": {},
   "outputs": [
    {
     "data": {
      "text/plain": [
       "LinearRegression()"
      ]
     },
     "execution_count": 23,
     "metadata": {},
     "output_type": "execute_result"
    }
   ],
   "source": [
    "# Model training\n",
    "model = LinearRegression()\n",
    "model.fit(house_sizes.reshape(-1, 1), house_prices)"
   ]
  },
  {
   "cell_type": "code",
   "execution_count": 20,
   "id": "82f134b9",
   "metadata": {},
   "outputs": [
    {
     "name": "stdout",
     "output_type": "stream",
     "text": [
      "Coefficient:9200\n",
      "Intercept:-1100000\n"
     ]
    }
   ],
   "source": [
    "# Model weights/parameters\n",
    "print(f\"Coefficient:{model.coef_[0]:.0f}\")\n",
    "print(f\"Intercept:{model.intercept_:.0f}\")"
   ]
  },
  {
   "cell_type": "code",
   "execution_count": null,
   "id": "dd19b004",
   "metadata": {},
   "outputs": [],
   "source": [
    "## This means house price = 9200 * house size - 1100000\n",
    "## So we can say that roughly each square feet costs Rs 9200"
   ]
  },
  {
   "cell_type": "code",
   "execution_count": 21,
   "id": "dd0e8001",
   "metadata": {},
   "outputs": [
    {
     "data": {
      "text/plain": [
       "10860000.0"
      ]
     },
     "execution_count": 21,
     "metadata": {},
     "output_type": "execute_result"
    }
   ],
   "source": [
    "# This model helps understand the relationship bw variables, find the rough estimate price of any new house\n",
    "house_size = 1300\n",
    "model.predict([[house_size]])[0]"
   ]
  },
  {
   "cell_type": "code",
   "execution_count": null,
   "id": "e817bd71",
   "metadata": {},
   "outputs": [],
   "source": []
  },
  {
   "cell_type": "code",
   "execution_count": null,
   "id": "5a4c5d8a",
   "metadata": {},
   "outputs": [],
   "source": []
  }
 ],
 "metadata": {
  "kernelspec": {
   "display_name": "Python 3 (ipykernel)",
   "language": "python",
   "name": "python3"
  },
  "language_info": {
   "codemirror_mode": {
    "name": "ipython",
    "version": 3
   },
   "file_extension": ".py",
   "mimetype": "text/x-python",
   "name": "python",
   "nbconvert_exporter": "python",
   "pygments_lexer": "ipython3",
   "version": "3.9.12"
  }
 },
 "nbformat": 4,
 "nbformat_minor": 5
}
